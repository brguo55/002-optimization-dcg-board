{
 "cells": [
  {
   "cell_type": "markdown",
   "metadata": {},
   "source": [
    "## Gurobi Model 2025/01/28"
   ]
  },
  {
   "cell_type": "markdown",
   "metadata": {},
   "source": [
    "### 01: Preparation Phase (Package Loading)"
   ]
  },
  {
   "cell_type": "code",
   "execution_count": 1,
   "metadata": {},
   "outputs": [
    {
     "name": "stdout",
     "output_type": "stream",
     "text": [
      "Restricted license - for non-production use only - expires 2025-11-24\n"
     ]
    }
   ],
   "source": [
    "from typing import List\n",
    "import gurobipy as gp\n",
    "from gurobipy import GRB\n",
    "\n",
    "# Initialize Gurobi model\n",
    "model = gp.Model(\"Gameplay_Optimization\")"
   ]
  },
  {
   "cell_type": "markdown",
   "metadata": {},
   "source": [
    "### 02: Python Implementation Phase"
   ]
  },
  {
   "cell_type": "code",
   "execution_count": null,
   "metadata": {},
   "outputs": [],
   "source": [
    "class Keywords:\n",
    "    \"\"\"Manages Hearthstone keywords, focusing on Paladin, Warrior, Demon Hunter, and Hunter\"\"\"\n",
    "\n",
    "    # General keywords available to all classes in this context\n",
    "    GENERAL_KEYWORDS = {\n",
    "        \"Taunt\", \"Charge\", \"Rush\",\n",
    "        \"Battlecry\", \"Deathrattle\",\n",
    "        \"Windfury\", \"Lifesteal\", \"Poisonous\", \"Stealth\",\n",
    "        \"Divine Shield\"\n",
    "    }\n",
    "\n",
    "    # Class-specific keywords for Paladin, Warrior, Demon Hunter, and Hunter\n",
    "    CLASS_KEYWORDS = {\n",
    "        \"Paladin\": {\"Divine Shield\", \"Taunt\"},\n",
    "        \"Warrior\": {\"Taunt\", \"Rush\"},\n",
    "        \"Demon Hunter\": {\"Rush\", \"Lifesteal\"},\n",
    "        \"Hunter\": {\"Deathrattle\", \"Stealth\"}\n",
    "    }\n",
    "\n",
    "    def __init__(self, keywords: List[str] = None, minion_class: str = \"Neutral\"):\n",
    "        # Determine allowed keywords based on class and general keywords\n",
    "        allowed_keywords = self.GENERAL_KEYWORDS.union(self.CLASS_KEYWORDS.get(minion_class, set()))\n",
    "        # Initialize keywords with only valid ones for the given class\n",
    "        self.keywords = {kw for kw in keywords if kw in allowed_keywords} if keywords else set()\n",
    "\n",
    "    def add_keyword(self, keyword: str, minion_class: str = \"Neutral\"):\n",
    "        \"\"\"Adds a keyword if it's valid for the minion's class\"\"\"\n",
    "        allowed_keywords = self.GENERAL_KEYWORDS.union(self.CLASS_KEYWORDS.get(minion_class, set()))\n",
    "        if keyword in allowed_keywords:\n",
    "            self.keywords.add(keyword)\n",
    "        else:\n",
    "            print(f\"{keyword} is not allowed for {minion_class} minions.\")\n",
    "\n",
    "    def remove_keyword(self, keyword: str):\n",
    "        \"\"\"Removes a keyword if it exists\"\"\"\n",
    "        if keyword in self.keywords:\n",
    "            self.keywords.remove(keyword)\n",
    "\n",
    "    def has_keyword(self, keyword: str) -> bool:\n",
    "        \"\"\"Checks if a specific keyword exists\"\"\"\n",
    "        return keyword in self.keywords\n",
    "\n",
    "    def __str__(self):\n",
    "        return \", \".join(self.keywords)"
   ]
  },
  {
   "cell_type": "code",
   "execution_count": null,
   "metadata": {},
   "outputs": [],
   "source": [
    "class Minion:\n",
    "    \"\"\"Minion class, used to hold the keywords and properties of a minion\"\"\"\n",
    "\n",
    "    def __init__(self, name: str, minion_class: str = \"Neutral\", keywords: List[str] = None, attack: int = 0, health: int = 0, strat_value: int = 0, mana_cost: int = 0):\n",
    "        self.name = name\n",
    "        self.minion_class = minion_class\n",
    "        self.attack = attack\n",
    "        self.health = health\n",
    "        self.strat_value = strat_value\n",
    "        self.mana_cost = mana_cost\n",
    "        # Initialize keywords based on the minion's class\n",
    "        self.keywords = Keywords(keywords, minion_class)\n",
    "\n",
    "    def __str__(self):\n",
    "        \"\"\"Returns a description of the minion\"\"\"\n",
    "        keywords = str(self.keywords) if self.keywords else \"No Keywords\"\n",
    "        return f\"Minion: {self.name} | Class: {self.minion_class} ttack:| A {self.attack} | Health: {self.health} | Keywords: {keywords}\""
   ]
  }
 ],
 "metadata": {
  "kernelspec": {
   "display_name": "Python 3",
   "language": "python",
   "name": "python3"
  },
  "language_info": {
   "codemirror_mode": {
    "name": "ipython",
    "version": 3
   },
   "file_extension": ".py",
   "mimetype": "text/x-python",
   "name": "python",
   "nbconvert_exporter": "python",
   "pygments_lexer": "ipython3",
   "version": "3.12.5"
  }
 },
 "nbformat": 4,
 "nbformat_minor": 2
}
