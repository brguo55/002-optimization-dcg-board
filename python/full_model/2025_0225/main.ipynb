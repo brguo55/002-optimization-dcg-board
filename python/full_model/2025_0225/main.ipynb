{
 "cells": [
  {
   "cell_type": "code",
   "execution_count": null,
   "metadata": {
    "vscode": {
     "languageId": "plaintext"
    }
   },
   "outputs": [],
   "source": [
    "from game import GameState\n",
    "from ai import AIPlayer\n",
    "from gurobi_helper import GurobiSolver\n",
    "\n",
    "game = GameState()\n",
    "game.update_mana()\n",
    "ai = AIPlayer(game)\n",
    "\n",
    "optimizer = GurobiSolver(game)\n",
    "optimal_move = optimizer.optimize_turn()\n",
    "\n",
    "print(\"Optimal Move:\", optimal_move)\n"
   ]
  }
 ],
 "metadata": {
  "language_info": {
   "name": "python"
  }
 },
 "nbformat": 4,
 "nbformat_minor": 2
}
