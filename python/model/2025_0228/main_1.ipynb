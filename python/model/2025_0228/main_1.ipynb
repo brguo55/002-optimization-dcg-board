{
 "cells": [
  {
   "cell_type": "code",
   "execution_count": 2,
   "metadata": {},
   "outputs": [],
   "source": [
    "# main_1.py\n",
    "\n",
    "from classes.hero import Hero\n",
    "\n",
    "from scenarios.test_1 import friendly_minions, enemy_minions, hand_list\n",
    "from scenarios.deck_1 import deck, add_card_to_hand\n",
    "\n",
    "from solver.slv import run_single_turn\n",
    "\n",
    "from state.transition_state import start_turn, apply_results, end_turn, swap_roles"
   ]
  },
  {
   "cell_type": "code",
   "execution_count": 3,
   "metadata": {},
   "outputs": [
    {
     "name": "stdout",
     "output_type": "stream",
     "text": [
      "Paladin draws: Minion: River Crocolisk | Class: Neutral | Attack: 2 | Health: 3 | Keywords: \n",
      "Restricted license - for non-production use only - expires 2026-11-23\n",
      "Gurobi Optimizer version 12.0.1 build v12.0.1rc0 (linux64 - \"Ubuntu 24.04.2 LTS\")\n",
      "Gurobi Optimizer version 12.0.1 build v12.0.1rc0 (linux64 - \"Ubuntu 24.04.2 LTS\")\n",
      "\n",
      "CPU model: Intel(R) Core(TM) Ultra 7 165U, instruction set [SSE2|AVX|AVX2]\n",
      "Thread count: 14 physical cores, 14 logical processors, using up to 14 threads\n",
      "\n",
      "Optimize a model with 10 rows, 10 columns and 21 nonzeros\n",
      "Model fingerprint: 0x712eb95f\n",
      "Variable types: 0 continuous, 10 integer (10 binary)\n",
      "Coefficient statistics:\n",
      "  Matrix range     [5e-01, 2e+00]\n",
      "  Objective range  [5e+00, 3e+01]\n",
      "  Bounds range     [1e+00, 1e+00]\n",
      "  RHS range        [1e+00, 7e+00]\n",
      "Presolve removed 10 rows and 10 columns\n",
      "Presolve time: 0.00s\n",
      "Presolve: All rows and columns removed\n",
      "\n",
      "Explored 0 nodes (0 simplex iterations) in 0.01 seconds (0.00 work units)\n",
      "Thread count was 1 (of 14 available processors)\n",
      "\n",
      "Solution count 1: 102 \n",
      "\n",
      "Optimal solution found (tolerance 1.00e-04)\n",
      "Best objective 1.020000000000e+02, best bound 1.020000000000e+02, gap 0.0000%\n",
      "Objective: 102.0\n",
      "Minion 1 attacked the hero for 2 damage\n",
      "Turn complete. Inspect logs above for solver outcome.\n"
     ]
    }
   ],
   "source": [
    "def main():\n",
    "    # 1) Create hero objects\n",
    "    hero1 = Hero(\"Paladin\", 30)\n",
    "    hero2 = Hero(\"Warrior\", 30)\n",
    "\n",
    "    # 2) Start turn: hero1 draws from deck_list\n",
    "    start_turn(hero1, deck, hand_list)\n",
    "\n",
    "    # 3) Build arrays for solver\n",
    "    m = len(friendly_minions)   # number of friendly minions on board\n",
    "    n = len(enemy_minions)      # number of enemy minions\n",
    "    h = len(hand_list)          # number of cards in hand\n",
    "    M = 5                       # Mana for this turn\n",
    "    H_hero = 4                 # Opponent hero's health\n",
    "\n",
    "    # Combine friendly_minions + hand_list\n",
    "    combined = friendly_minions + hand_list\n",
    "    A = [mn.attack for mn in combined]\n",
    "    B = [mn.health for mn in combined]\n",
    "    P = [enm.attack for enm in enemy_minions]\n",
    "    Q = [enm.health for enm in enemy_minions]\n",
    "\n",
    "    C = [mn.mana_cost for mn in hand_list]\n",
    "    S = [mn.strat_value for mn in hand_list]\n",
    "\n",
    "    # 4) Run solver (one-turn optimization)\n",
    "    solution = run_single_turn(\n",
    "        m=m, n=n, h=h,\n",
    "        M=M, H_hero=H_hero,\n",
    "        A=A, B=B, P=P, Q=Q, C=C, S=S,\n",
    "        W1=10, W2=9, W6=8, W4=7, W3=6, W8=5, W5=4, W7=3\n",
    "    )\n",
    "\n",
    "    # 5) Apply results (log or update your game state)\n",
    "    scenario_data = {\n",
    "        \"A\": A,\n",
    "        \"B\": B,\n",
    "        \"P\": P,\n",
    "        \"Q\": Q,\n",
    "    }\n",
    "    apply_results(solution, scenario_data)\n",
    "\n",
    "    # 6) End turn\n",
    "    end_turn(hero1, hero2)\n",
    "\n",
    "    print(\"Turn complete. Inspect logs above for solver outcome.\")\n",
    "\n",
    "if __name__ == \"__main__\":\n",
    "    main()"
   ]
  },
  {
   "cell_type": "code",
   "execution_count": null,
   "metadata": {},
   "outputs": [],
   "source": []
  }
 ],
 "metadata": {
  "kernelspec": {
   "display_name": "Python 3",
   "language": "python",
   "name": "python3"
  },
  "language_info": {
   "codemirror_mode": {
    "name": "ipython",
    "version": 3
   },
   "file_extension": ".py",
   "mimetype": "text/x-python",
   "name": "python",
   "nbconvert_exporter": "python",
   "pygments_lexer": "ipython3",
   "version": "3.12.3"
  }
 },
 "nbformat": 4,
 "nbformat_minor": 2
}
