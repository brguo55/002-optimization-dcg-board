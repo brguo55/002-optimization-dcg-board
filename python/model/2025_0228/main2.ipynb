{
 "cells": [
  {
   "cell_type": "code",
   "execution_count": null,
   "metadata": {},
   "outputs": [],
   "source": [
    "# main3.py\n",
    "\n",
    "from classes.hero import Hero\n",
    "\n",
    "from scenarios.basic_example import friendly_minions, enemy_minions, hand_list\n",
    "from scenarios.deck_example import deck_15, add_card_to_hand\n",
    "\n",
    "from solver.slv import run_single_turn\n",
    "\n",
    "from state.transition_state import start_turn, apply_results, end_turn, swap_roles"
   ]
  },
  {
   "cell_type": "code",
   "execution_count": 9,
   "metadata": {},
   "outputs": [
    {
     "name": "stdout",
     "output_type": "stream",
     "text": [
      "Paladin draws: Minion: Ironfur Grizzly | Class: Neutral | Attack: 3 | Health: 3 | Keywords: Taunt\n"
     ]
    },
    {
     "ename": "TypeError",
     "evalue": "run_single_turn() got an unexpected keyword argument 'W8'",
     "output_type": "error",
     "traceback": [
      "\u001b[0;31m---------------------------------------------------------------------------\u001b[0m",
      "\u001b[0;31mTypeError\u001b[0m                                 Traceback (most recent call last)",
      "Cell \u001b[0;32mIn[9], line 49\u001b[0m\n\u001b[1;32m     46\u001b[0m     \u001b[38;5;28mprint\u001b[39m(\u001b[38;5;124m\"\u001b[39m\u001b[38;5;124mTurn complete. Inspect logs above for solver outcome.\u001b[39m\u001b[38;5;124m\"\u001b[39m)\n\u001b[1;32m     48\u001b[0m \u001b[38;5;28;01mif\u001b[39;00m \u001b[38;5;18m__name__\u001b[39m \u001b[38;5;241m==\u001b[39m \u001b[38;5;124m\"\u001b[39m\u001b[38;5;124m__main__\u001b[39m\u001b[38;5;124m\"\u001b[39m:\n\u001b[0;32m---> 49\u001b[0m     \u001b[43mmain\u001b[49m\u001b[43m(\u001b[49m\u001b[43m)\u001b[49m\n",
      "Cell \u001b[0;32mIn[9], line 27\u001b[0m, in \u001b[0;36mmain\u001b[0;34m()\u001b[0m\n\u001b[1;32m     24\u001b[0m S \u001b[38;5;241m=\u001b[39m [mn\u001b[38;5;241m.\u001b[39mstrat_value \u001b[38;5;28;01mfor\u001b[39;00m mn \u001b[38;5;129;01min\u001b[39;00m hand_list]\n\u001b[1;32m     26\u001b[0m \u001b[38;5;66;03m# 4) Run solver (one-turn optimization)\u001b[39;00m\n\u001b[0;32m---> 27\u001b[0m solution \u001b[38;5;241m=\u001b[39m \u001b[43mrun_single_turn\u001b[49m\u001b[43m(\u001b[49m\n\u001b[1;32m     28\u001b[0m \u001b[43m    \u001b[49m\u001b[43mm\u001b[49m\u001b[38;5;241;43m=\u001b[39;49m\u001b[43mm\u001b[49m\u001b[43m,\u001b[49m\u001b[43m \u001b[49m\u001b[43mn\u001b[49m\u001b[38;5;241;43m=\u001b[39;49m\u001b[43mn\u001b[49m\u001b[43m,\u001b[49m\u001b[43m \u001b[49m\u001b[43mh\u001b[49m\u001b[38;5;241;43m=\u001b[39;49m\u001b[43mh\u001b[49m\u001b[43m,\u001b[49m\n\u001b[1;32m     29\u001b[0m \u001b[43m    \u001b[49m\u001b[43mM\u001b[49m\u001b[38;5;241;43m=\u001b[39;49m\u001b[43mM\u001b[49m\u001b[43m,\u001b[49m\u001b[43m \u001b[49m\u001b[43mH_hero\u001b[49m\u001b[38;5;241;43m=\u001b[39;49m\u001b[43mH_hero\u001b[49m\u001b[43m,\u001b[49m\n\u001b[1;32m     30\u001b[0m \u001b[43m    \u001b[49m\u001b[43mA\u001b[49m\u001b[38;5;241;43m=\u001b[39;49m\u001b[43mA\u001b[49m\u001b[43m,\u001b[49m\u001b[43m \u001b[49m\u001b[43mB\u001b[49m\u001b[38;5;241;43m=\u001b[39;49m\u001b[43mB\u001b[49m\u001b[43m,\u001b[49m\u001b[43m \u001b[49m\u001b[43mP\u001b[49m\u001b[38;5;241;43m=\u001b[39;49m\u001b[43mP\u001b[49m\u001b[43m,\u001b[49m\u001b[43m \u001b[49m\u001b[43mQ\u001b[49m\u001b[38;5;241;43m=\u001b[39;49m\u001b[43mQ\u001b[49m\u001b[43m,\u001b[49m\u001b[43m \u001b[49m\u001b[43mC\u001b[49m\u001b[38;5;241;43m=\u001b[39;49m\u001b[43mC\u001b[49m\u001b[43m,\u001b[49m\u001b[43m \u001b[49m\u001b[43mS\u001b[49m\u001b[38;5;241;43m=\u001b[39;49m\u001b[43mS\u001b[49m\u001b[43m,\u001b[49m\n\u001b[1;32m     31\u001b[0m \u001b[43m    \u001b[49m\u001b[43mW1\u001b[49m\u001b[38;5;241;43m=\u001b[39;49m\u001b[38;5;241;43m10\u001b[39;49m\u001b[43m,\u001b[49m\u001b[43m \u001b[49m\u001b[43mW2\u001b[49m\u001b[38;5;241;43m=\u001b[39;49m\u001b[38;5;241;43m9\u001b[39;49m\u001b[43m,\u001b[49m\u001b[43m \u001b[49m\u001b[43mW6\u001b[49m\u001b[38;5;241;43m=\u001b[39;49m\u001b[38;5;241;43m8\u001b[39;49m\u001b[43m,\u001b[49m\u001b[43m \u001b[49m\u001b[43mW4\u001b[49m\u001b[38;5;241;43m=\u001b[39;49m\u001b[38;5;241;43m7\u001b[39;49m\u001b[43m,\u001b[49m\u001b[43m \u001b[49m\u001b[43mW3\u001b[49m\u001b[38;5;241;43m=\u001b[39;49m\u001b[38;5;241;43m6\u001b[39;49m\u001b[43m,\u001b[49m\u001b[43m \u001b[49m\u001b[43mW8\u001b[49m\u001b[38;5;241;43m=\u001b[39;49m\u001b[38;5;241;43m5\u001b[39;49m\u001b[43m,\u001b[49m\u001b[43m \u001b[49m\u001b[43mW5\u001b[49m\u001b[38;5;241;43m=\u001b[39;49m\u001b[38;5;241;43m4\u001b[39;49m\u001b[43m,\u001b[49m\u001b[43m \u001b[49m\u001b[43mW7\u001b[49m\u001b[38;5;241;43m=\u001b[39;49m\u001b[38;5;241;43m3\u001b[39;49m\n\u001b[1;32m     32\u001b[0m \u001b[43m\u001b[49m\u001b[43m)\u001b[49m\n\u001b[1;32m     34\u001b[0m \u001b[38;5;66;03m# 5) Apply results (log or update your game state)\u001b[39;00m\n\u001b[1;32m     35\u001b[0m scenario_data \u001b[38;5;241m=\u001b[39m {\n\u001b[1;32m     36\u001b[0m     \u001b[38;5;124m\"\u001b[39m\u001b[38;5;124mA\u001b[39m\u001b[38;5;124m\"\u001b[39m: A,\n\u001b[1;32m     37\u001b[0m     \u001b[38;5;124m\"\u001b[39m\u001b[38;5;124mB\u001b[39m\u001b[38;5;124m\"\u001b[39m: B,\n\u001b[1;32m     38\u001b[0m     \u001b[38;5;124m\"\u001b[39m\u001b[38;5;124mP\u001b[39m\u001b[38;5;124m\"\u001b[39m: P,\n\u001b[1;32m     39\u001b[0m     \u001b[38;5;124m\"\u001b[39m\u001b[38;5;124mQ\u001b[39m\u001b[38;5;124m\"\u001b[39m: Q,\n\u001b[1;32m     40\u001b[0m }\n",
      "\u001b[0;31mTypeError\u001b[0m: run_single_turn() got an unexpected keyword argument 'W8'"
     ]
    }
   ],
   "source": [
    "def main():\n",
    "    # 1) Create hero objects\n",
    "    hero1 = Hero(\"Paladin\", 30)\n",
    "    hero2 = Hero(\"Warrior\", 30)\n",
    "\n",
    "    # 2) Start turn: hero1 draws from deck_list\n",
    "    start_turn(hero1, deck_15, hand_list)\n",
    "\n",
    "    # 3) Build arrays for solver\n",
    "    m = len(friendly_minions)   # number of friendly minions on board\n",
    "    n = len(enemy_minions)      # number of enemy minions\n",
    "    h = len(hand_list)          # number of cards in hand\n",
    "    M = 5                       # Mana for this turn\n",
    "    H_hero = 12                 # Opponent hero's health\n",
    "\n",
    "    # Combine friendly_minions + hand_list\n",
    "    combined = friendly_minions + hand_list\n",
    "    A = [mn.attack for mn in combined]\n",
    "    B = [mn.health for mn in combined]\n",
    "    P = [enm.attack for enm in enemy_minions]\n",
    "    Q = [enm.health for enm in enemy_minions]\n",
    "\n",
    "    C = [mn.mana_cost for mn in hand_list]\n",
    "    S = [mn.strat_value for mn in hand_list]\n",
    "\n",
    "    # 4) Run solver (one-turn optimization)\n",
    "    solution = run_single_turn(\n",
    "        m=m, n=n, h=h,\n",
    "        M=M, H_hero=H_hero,\n",
    "        A=A, B=B, P=P, Q=Q, C=C, S=S,\n",
    "        W1=10, W2=9, W6=8, W4=7, W3=6, W8=5, W5=4, W7=3\n",
    "    )\n",
    "\n",
    "    # 5) Apply results (log or update your game state)\n",
    "    scenario_data = {\n",
    "        \"A\": A,\n",
    "        \"B\": B,\n",
    "        \"P\": P,\n",
    "        \"Q\": Q,\n",
    "    }\n",
    "    apply_results(solution, scenario_data)\n",
    "\n",
    "    # 6) End turn\n",
    "    end_turn(hero1, hero2)\n",
    "\n",
    "    print(\"Turn complete. Inspect logs above for solver outcome.\")\n",
    "\n",
    "if __name__ == \"__main__\":\n",
    "    main()"
   ]
  },
  {
   "cell_type": "code",
   "execution_count": null,
   "metadata": {},
   "outputs": [],
   "source": []
  }
 ],
 "metadata": {
  "kernelspec": {
   "display_name": "Python 3",
   "language": "python",
   "name": "python3"
  },
  "language_info": {
   "codemirror_mode": {
    "name": "ipython",
    "version": 3
   },
   "file_extension": ".py",
   "mimetype": "text/x-python",
   "name": "python",
   "nbconvert_exporter": "python",
   "pygments_lexer": "ipython3",
   "version": "3.12.3"
  }
 },
 "nbformat": 4,
 "nbformat_minor": 2
}
