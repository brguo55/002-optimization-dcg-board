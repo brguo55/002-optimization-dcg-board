{
 "cells": [
  {
   "cell_type": "code",
   "execution_count": 6,
   "metadata": {},
   "outputs": [],
   "source": [
    "from typing import List\n",
    "import gurobipy as gp\n",
    "from gurobipy import GRB"
   ]
  },
  {
   "cell_type": "code",
   "execution_count": 7,
   "metadata": {},
   "outputs": [],
   "source": [
    "from classes.keywords import Keywords\n",
    "from classes.minion import Minion\n",
    "from classes.hero import Hero"
   ]
  },
  {
   "cell_type": "code",
   "execution_count": null,
   "metadata": {},
   "outputs": [
    {
     "ename": "ImportError",
     "evalue": "cannot import name 'hand_list' from 'scenarios.hand_example' (/home/brguo55/GitHub/VS Code/Optimization/002-optimization-dcg-board/python/model/2025_0227/scenarios/hand_example.py)",
     "output_type": "error",
     "traceback": [
      "\u001b[0;31m---------------------------------------------------------------------------\u001b[0m",
      "\u001b[0;31mImportError\u001b[0m                               Traceback (most recent call last)",
      "Cell \u001b[0;32mIn[12], line 2\u001b[0m\n\u001b[1;32m      1\u001b[0m \u001b[38;5;28;01mfrom\u001b[39;00m \u001b[38;5;21;01mscenarios\u001b[39;00m\u001b[38;5;21;01m.\u001b[39;00m\u001b[38;5;21;01mbasic_example\u001b[39;00m \u001b[38;5;28;01mimport\u001b[39;00m friendly_minions, enemy_minions\n\u001b[0;32m----> 2\u001b[0m \u001b[38;5;28;01mfrom\u001b[39;00m \u001b[38;5;21;01mscenarios\u001b[39;00m\u001b[38;5;21;01m.\u001b[39;00m\u001b[38;5;21;01mhand_example\u001b[39;00m \u001b[38;5;28;01mimport\u001b[39;00m hand_list\n\u001b[1;32m      3\u001b[0m \u001b[38;5;28;01mfrom\u001b[39;00m \u001b[38;5;21;01mscenarios\u001b[39;00m\u001b[38;5;21;01m.\u001b[39;00m\u001b[38;5;21;01mdeck_example\u001b[39;00m \u001b[38;5;28;01mimport\u001b[39;00m deck_15, add_card_to_hand\n\u001b[1;32m      4\u001b[0m \u001b[38;5;28;01mfrom\u001b[39;00m \u001b[38;5;21;01mscenarios\u001b[39;00m\u001b[38;5;21;01m.\u001b[39;00m\u001b[38;5;21;01mhand_example\u001b[39;00m \u001b[38;5;28;01mimport\u001b[39;00m hand_example\n",
      "\u001b[0;31mImportError\u001b[0m: cannot import name 'hand_list' from 'scenarios.hand_example' (/home/brguo55/GitHub/VS Code/Optimization/002-optimization-dcg-board/python/model/2025_0227/scenarios/hand_example.py)"
     ]
    }
   ],
   "source": [
    "from scenarios.basic_example import friendly_minions, enemy_minions, hand_list\n",
    "from scenarios.deck_example import deck_15, add_card_to_hand\n",
    "from scenarios.hand_example import hand_example"
   ]
  },
  {
   "cell_type": "code",
   "execution_count": 9,
   "metadata": {},
   "outputs": [],
   "source": [
    "from solver.turn_solver import run_single_turn\n",
    "from state.turn_manager import start_turn, apply_results, end_turn, swap_players"
   ]
  },
  {
   "cell_type": "code",
   "execution_count": 4,
   "metadata": {},
   "outputs": [
    {
     "ename": "NameError",
     "evalue": "name 'hand_list' is not defined",
     "output_type": "error",
     "traceback": [
      "\u001b[0;31m---------------------------------------------------------------------------\u001b[0m",
      "\u001b[0;31mNameError\u001b[0m                                 Traceback (most recent call last)",
      "Cell \u001b[0;32mIn[4], line 56\u001b[0m\n\u001b[1;32m     53\u001b[0m     \u001b[38;5;28mprint\u001b[39m(\u001b[38;5;124m\"\u001b[39m\u001b[38;5;124mDone. Inspect logs above to see solver\u001b[39m\u001b[38;5;124m'\u001b[39m\u001b[38;5;124ms actions.\u001b[39m\u001b[38;5;124m\"\u001b[39m)\n\u001b[1;32m     55\u001b[0m \u001b[38;5;28;01mif\u001b[39;00m \u001b[38;5;18m__name__\u001b[39m \u001b[38;5;241m==\u001b[39m \u001b[38;5;124m\"\u001b[39m\u001b[38;5;124m__main__\u001b[39m\u001b[38;5;124m\"\u001b[39m:\n\u001b[0;32m---> 56\u001b[0m     \u001b[43mmain\u001b[49m\u001b[43m(\u001b[49m\u001b[43m)\u001b[49m\n",
      "Cell \u001b[0;32mIn[4], line 14\u001b[0m, in \u001b[0;36mmain\u001b[0;34m()\u001b[0m\n\u001b[1;32m     12\u001b[0m m \u001b[38;5;241m=\u001b[39m \u001b[38;5;28mlen\u001b[39m(friendly_minions)\n\u001b[1;32m     13\u001b[0m n \u001b[38;5;241m=\u001b[39m \u001b[38;5;28mlen\u001b[39m(enemy_minions)\n\u001b[0;32m---> 14\u001b[0m h \u001b[38;5;241m=\u001b[39m \u001b[38;5;28mlen\u001b[39m(\u001b[43mhand_list\u001b[49m)\n\u001b[1;32m     15\u001b[0m M \u001b[38;5;241m=\u001b[39m \u001b[38;5;241m5\u001b[39m\n\u001b[1;32m     16\u001b[0m H_hero \u001b[38;5;241m=\u001b[39m \u001b[38;5;241m12\u001b[39m\n",
      "\u001b[0;31mNameError\u001b[0m: name 'hand_list' is not defined"
     ]
    }
   ],
   "source": [
    "def main():\n",
    "    # Create heroes\n",
    "    hero1 = Hero(\"Paladin\", 30)\n",
    "    hero2 = Hero(\"Warrior\", 30)\n",
    "\n",
    "    # Example deck + hand\n",
    "    deck1 = []\n",
    "    deck2 = []\n",
    "    # If you have a deck from deck_example, load it here\n",
    "\n",
    "    # Minimal scenario arrays:\n",
    "    m = len(friendly_minions)\n",
    "    n = len(enemy_minions)\n",
    "    h = len(hand_list)\n",
    "    M = 5\n",
    "    H_hero = 12\n",
    "\n",
    "    # A, B = attack, health of friendly + hand\n",
    "    combined_minions = friendly_minions + hand_list\n",
    "    A = [minion.attack for minion in combined_minions]\n",
    "    B = [minion.health for minion in combined_minions]\n",
    "    # P, Q = attack, health of enemy minions\n",
    "    P = [minion.attack for minion in enemy_minions]\n",
    "    Q = [minion.health for minion in enemy_minions]\n",
    "    # C, S = cost + strategic value for the hand\n",
    "    C = [minion.mana_cost for minion in hand_list]\n",
    "    S = [minion.strat_value for minion in hand_list]\n",
    "\n",
    "    # Start turn: hero1\n",
    "    start_turn(hero1, deck1, hand_list)\n",
    "    # Build data for solver\n",
    "    solution = run_single_turn(\n",
    "        m, n, h, M, H_hero,\n",
    "        A, B, P, Q, C, S,\n",
    "        W1=1, W2=1, W3=1, W4=1, W5=1, W6=1, W7=1\n",
    "    )\n",
    "    # Apply results\n",
    "    scenario_data = {\n",
    "        \"A\": A,\n",
    "        \"B\": B,\n",
    "        \"P\": P,\n",
    "        \"Q\": Q,\n",
    "        # if you want references to hero2 for damage, do so\n",
    "    }\n",
    "    apply_results(solution, scenario_data)\n",
    "    end_turn(hero1, hero2)\n",
    "\n",
    "    # Swap roles for second turn\n",
    "    active_hero, opp_hero = swap_players(hero1, hero2)\n",
    "    start_turn(active_hero, deck2, hand_list)\n",
    "    # Re-run solver with the new viewpoint if you like\n",
    "\n",
    "    print(\"Done. Inspect logs above to see solver's actions.\")\n",
    "\n",
    "if __name__ == \"__main__\":\n",
    "    main()"
   ]
  }
 ],
 "metadata": {
  "kernelspec": {
   "display_name": "Python 3",
   "language": "python",
   "name": "python3"
  },
  "language_info": {
   "codemirror_mode": {
    "name": "ipython",
    "version": 3
   },
   "file_extension": ".py",
   "mimetype": "text/x-python",
   "name": "python",
   "nbconvert_exporter": "python",
   "pygments_lexer": "ipython3",
   "version": "3.12.3"
  }
 },
 "nbformat": 4,
 "nbformat_minor": 2
}
